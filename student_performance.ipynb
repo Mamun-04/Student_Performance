{
 "cells": [
  {
   "cell_type": "markdown",
   "id": "04cd9e04",
   "metadata": {},
   "source": [
    "This notebook was made to predict the likelihood of students from portugal failing their maths test based on a number of relevant features"
   ]
  },
  {
   "cell_type": "markdown",
   "id": "32f042bc",
   "metadata": {},
   "source": [
    "1. Import Libraries"
   ]
  },
  {
   "cell_type": "code",
   "execution_count": 20,
   "id": "faa31551",
   "metadata": {},
   "outputs": [],
   "source": [
    "import pandas as pd\n",
    "import matplotlib.pyplot as plt\n",
    "import numpy as np\n",
    "from sklearn.preprocessing import LabelEncoder  \n",
    "from sklearn.model_selection import train_test_split, GridSearchCV\n",
    "from sklearn.ensemble import RandomForestClassifier\n",
    "from sklearn.metrics import classification_report\n",
    "from imblearn.pipeline import Pipeline\n",
    "from imblearn.over_sampling import SMOTE\n",
    "import seaborn as sns"
   ]
  },
  {
   "cell_type": "markdown",
   "id": "e436eb7a",
   "metadata": {},
   "source": [
    "2. Load data, in this notebook we will look at maths performance"
   ]
  },
  {
   "cell_type": "code",
   "execution_count": 12,
   "id": "a79cb731",
   "metadata": {},
   "outputs": [
    {
     "data": {
      "text/html": [
       "<div>\n",
       "<style scoped>\n",
       "    .dataframe tbody tr th:only-of-type {\n",
       "        vertical-align: middle;\n",
       "    }\n",
       "\n",
       "    .dataframe tbody tr th {\n",
       "        vertical-align: top;\n",
       "    }\n",
       "\n",
       "    .dataframe thead th {\n",
       "        text-align: right;\n",
       "    }\n",
       "</style>\n",
       "<table border=\"1\" class=\"dataframe\">\n",
       "  <thead>\n",
       "    <tr style=\"text-align: right;\">\n",
       "      <th></th>\n",
       "      <th>school;sex;age;address;famsize;Pstatus;Medu;Fedu;Mjob;Fjob;reason;guardian;traveltime;studytime;failures;schoolsup;famsup;paid;activities;nursery;higher;internet;romantic;famrel;freetime;goout;Dalc;Walc;health;absences;G1;G2;G3</th>\n",
       "    </tr>\n",
       "  </thead>\n",
       "  <tbody>\n",
       "    <tr>\n",
       "      <th>0</th>\n",
       "      <td>GP;\"F\";18;\"U\";\"GT3\";\"A\";4;4;\"at_home\";\"teacher...</td>\n",
       "    </tr>\n",
       "    <tr>\n",
       "      <th>1</th>\n",
       "      <td>GP;\"F\";17;\"U\";\"GT3\";\"T\";1;1;\"at_home\";\"other\";...</td>\n",
       "    </tr>\n",
       "    <tr>\n",
       "      <th>2</th>\n",
       "      <td>GP;\"F\";15;\"U\";\"LE3\";\"T\";1;1;\"at_home\";\"other\";...</td>\n",
       "    </tr>\n",
       "    <tr>\n",
       "      <th>3</th>\n",
       "      <td>GP;\"F\";15;\"U\";\"GT3\";\"T\";4;2;\"health\";\"services...</td>\n",
       "    </tr>\n",
       "    <tr>\n",
       "      <th>4</th>\n",
       "      <td>GP;\"F\";16;\"U\";\"GT3\";\"T\";3;3;\"other\";\"other\";\"h...</td>\n",
       "    </tr>\n",
       "  </tbody>\n",
       "</table>\n",
       "</div>"
      ],
      "text/plain": [
       "  school;sex;age;address;famsize;Pstatus;Medu;Fedu;Mjob;Fjob;reason;guardian;traveltime;studytime;failures;schoolsup;famsup;paid;activities;nursery;higher;internet;romantic;famrel;freetime;goout;Dalc;Walc;health;absences;G1;G2;G3\n",
       "0  GP;\"F\";18;\"U\";\"GT3\";\"A\";4;4;\"at_home\";\"teacher...                                                                                                                                                                                 \n",
       "1  GP;\"F\";17;\"U\";\"GT3\";\"T\";1;1;\"at_home\";\"other\";...                                                                                                                                                                                 \n",
       "2  GP;\"F\";15;\"U\";\"LE3\";\"T\";1;1;\"at_home\";\"other\";...                                                                                                                                                                                 \n",
       "3  GP;\"F\";15;\"U\";\"GT3\";\"T\";4;2;\"health\";\"services...                                                                                                                                                                                 \n",
       "4  GP;\"F\";16;\"U\";\"GT3\";\"T\";3;3;\"other\";\"other\";\"h...                                                                                                                                                                                 "
      ]
     },
     "execution_count": 12,
     "metadata": {},
     "output_type": "execute_result"
    }
   ],
   "source": [
    "import pandas as pd\n",
    "\n",
    "df = pd.read_csv(\"student-mat.csv\")\n",
    "\n",
    "df.head()"
   ]
  },
  {
   "cell_type": "markdown",
   "id": "9022b905",
   "metadata": {},
   "source": [
    "3. Clean data, only keeping the columns that seem relevant"
   ]
  },
  {
   "cell_type": "code",
   "execution_count": 13,
   "id": "8d77d081",
   "metadata": {},
   "outputs": [
    {
     "name": "stderr",
     "output_type": "stream",
     "text": [
      "C:\\Users\\arifu\\AppData\\Local\\Temp\\ipykernel_10500\\1197850780.py:16: FutureWarning: DataFrame.applymap has been deprecated. Use DataFrame.map instead.\n",
      "  df[binary_cols] = df[binary_cols].applymap(lambda x: 1 if x == 'yes' else 0)\n"
     ]
    },
    {
     "data": {
      "text/html": [
       "<div>\n",
       "<style scoped>\n",
       "    .dataframe tbody tr th:only-of-type {\n",
       "        vertical-align: middle;\n",
       "    }\n",
       "\n",
       "    .dataframe tbody tr th {\n",
       "        vertical-align: top;\n",
       "    }\n",
       "\n",
       "    .dataframe thead th {\n",
       "        text-align: right;\n",
       "    }\n",
       "</style>\n",
       "<table border=\"1\" class=\"dataframe\">\n",
       "  <thead>\n",
       "    <tr style=\"text-align: right;\">\n",
       "      <th></th>\n",
       "      <th>famsup</th>\n",
       "      <th>schoolsup</th>\n",
       "      <th>studytime</th>\n",
       "      <th>activities</th>\n",
       "      <th>absences</th>\n",
       "      <th>internet</th>\n",
       "      <th>Fedu</th>\n",
       "      <th>Medu</th>\n",
       "      <th>failures</th>\n",
       "      <th>goout</th>\n",
       "      <th>age</th>\n",
       "    </tr>\n",
       "  </thead>\n",
       "  <tbody>\n",
       "    <tr>\n",
       "      <th>0</th>\n",
       "      <td>0</td>\n",
       "      <td>1</td>\n",
       "      <td>2</td>\n",
       "      <td>0</td>\n",
       "      <td>6</td>\n",
       "      <td>0</td>\n",
       "      <td>4</td>\n",
       "      <td>4</td>\n",
       "      <td>0</td>\n",
       "      <td>4</td>\n",
       "      <td>18</td>\n",
       "    </tr>\n",
       "    <tr>\n",
       "      <th>1</th>\n",
       "      <td>1</td>\n",
       "      <td>0</td>\n",
       "      <td>2</td>\n",
       "      <td>0</td>\n",
       "      <td>4</td>\n",
       "      <td>1</td>\n",
       "      <td>1</td>\n",
       "      <td>1</td>\n",
       "      <td>0</td>\n",
       "      <td>3</td>\n",
       "      <td>17</td>\n",
       "    </tr>\n",
       "    <tr>\n",
       "      <th>2</th>\n",
       "      <td>0</td>\n",
       "      <td>1</td>\n",
       "      <td>2</td>\n",
       "      <td>0</td>\n",
       "      <td>10</td>\n",
       "      <td>1</td>\n",
       "      <td>1</td>\n",
       "      <td>1</td>\n",
       "      <td>3</td>\n",
       "      <td>2</td>\n",
       "      <td>15</td>\n",
       "    </tr>\n",
       "    <tr>\n",
       "      <th>3</th>\n",
       "      <td>1</td>\n",
       "      <td>0</td>\n",
       "      <td>3</td>\n",
       "      <td>1</td>\n",
       "      <td>2</td>\n",
       "      <td>1</td>\n",
       "      <td>2</td>\n",
       "      <td>4</td>\n",
       "      <td>0</td>\n",
       "      <td>2</td>\n",
       "      <td>15</td>\n",
       "    </tr>\n",
       "    <tr>\n",
       "      <th>4</th>\n",
       "      <td>1</td>\n",
       "      <td>0</td>\n",
       "      <td>2</td>\n",
       "      <td>0</td>\n",
       "      <td>4</td>\n",
       "      <td>0</td>\n",
       "      <td>3</td>\n",
       "      <td>3</td>\n",
       "      <td>0</td>\n",
       "      <td>2</td>\n",
       "      <td>16</td>\n",
       "    </tr>\n",
       "  </tbody>\n",
       "</table>\n",
       "</div>"
      ],
      "text/plain": [
       "   famsup  schoolsup  studytime  activities  absences  internet  Fedu  Medu  \\\n",
       "0       0          1          2           0         6         0     4     4   \n",
       "1       1          0          2           0         4         1     1     1   \n",
       "2       0          1          2           0        10         1     1     1   \n",
       "3       1          0          3           1         2         1     2     4   \n",
       "4       1          0          2           0         4         0     3     3   \n",
       "\n",
       "   failures  goout  age  \n",
       "0         0      4   18  \n",
       "1         0      3   17  \n",
       "2         3      2   15  \n",
       "3         0      2   15  \n",
       "4         0      2   16  "
      ]
     },
     "execution_count": 13,
     "metadata": {},
     "output_type": "execute_result"
    }
   ],
   "source": [
    "# Adding a delimiter allows us to separate the columns correctly\n",
    "df = pd.read_csv(\"student-mat.csv\", delimiter=';')\n",
    "\n",
    "# The relevant columns\n",
    "columns_to_keep = [\n",
    "    'famsup', 'schoolsup', 'studytime', 'activities',\n",
    "    'absences', 'internet', 'Fedu', 'Medu', 'failures', 'goout', 'age'\n",
    "]\n",
    "\n",
    "# G1-3 (the grades) are excluded as students who score high are guaranteed to pass\n",
    "\n",
    "df = df[columns_to_keep]\n",
    "\n",
    "# Convert yes/no columns to binary 1/0\n",
    "binary_cols = ['famsup', 'schoolsup', 'activities', 'internet']\n",
    "df[binary_cols] = df[binary_cols].applymap(lambda x: 1 if x == 'yes' else 0)\n",
    "\n",
    "# View new dataframe\n",
    "df.head()\n"
   ]
  },
  {
   "cell_type": "markdown",
   "id": "5cb30d73",
   "metadata": {},
   "source": [
    "4. Prepare the target variable and features for training the model"
   ]
  },
  {
   "cell_type": "code",
   "execution_count": 14,
   "id": "b7ad938f",
   "metadata": {},
   "outputs": [],
   "source": [
    "\n",
    "features = ['famsup', 'schoolsup', 'studytime', 'activities',\n",
    "    'absences', 'internet', 'Fedu', 'Medu', 'goout', 'age']\n",
    "X = df[features]\n",
    "\n",
    "\n",
    "# For better visibility we will only test for the chance of failing once, deeming failure\n",
    "# Also, there are very few students who failed more than once so this simplifies the model\n",
    "df['failed'] = df['failures'].apply(lambda x: 1 if x > 0 else 0)\n",
    "y = df['failed']\n"
   ]
  },
  {
   "cell_type": "markdown",
   "id": "420c9dba",
   "metadata": {},
   "source": [
    "5. Applying this to a random forest model"
   ]
  },
  {
   "cell_type": "code",
   "execution_count": 15,
   "id": "47518a5a",
   "metadata": {},
   "outputs": [
    {
     "name": "stdout",
     "output_type": "stream",
     "text": [
      "              precision    recall  f1-score   support\n",
      "\n",
      "           0       0.86      0.98      0.92        65\n",
      "           1       0.80      0.29      0.42        14\n",
      "\n",
      "    accuracy                           0.86        79\n",
      "   macro avg       0.83      0.64      0.67        79\n",
      "weighted avg       0.85      0.86      0.83        79\n",
      "\n"
     ]
    }
   ],
   "source": [
    "\n",
    "le = LabelEncoder()\n",
    "y_enc = le.fit_transform(y)\n",
    "\n",
    "X_train, X_test, y_train, y_test = train_test_split(X, y_enc, test_size=0.2, random_state=42)\n",
    "\n",
    "model = RandomForestClassifier(n_estimators=100, random_state=42)\n",
    "model.fit(X_train, y_train)\n",
    "\n",
    "y_pred = model.predict(X_test)\n",
    "print(classification_report(y_test, y_pred))\n"
   ]
  },
  {
   "cell_type": "markdown",
   "id": "d91189d5",
   "metadata": {},
   "source": [
    "From here we can see that the model has very high precision in predicting passes, and it gets them correct. However, it hardly picks up on any failures which has lead to a low f1-score.\n",
    "\n",
    "This may be because there are not much samples available which limits the accuracy of the model, there is also a small class imbalance in the dataset leaving the model to be more cautious in picking up failures.\n",
    "\n",
    "This means we may use SMOTE to balance the dataset and prevent the model from being bias towards the majority class.\n",
    "\n",
    "My last attempt at using it for the credit card notebook I did didn't go to well, so this time I will also add GridSearchCV, so we can see which hyperparameters are the best for the random forest."
   ]
  },
  {
   "cell_type": "markdown",
   "id": "4e20508f",
   "metadata": {},
   "source": [
    "6. Retrain model applying SMOTE and GridSearchCV"
   ]
  },
  {
   "cell_type": "code",
   "execution_count": 22,
   "id": "4838776e",
   "metadata": {},
   "outputs": [
    {
     "name": "stdout",
     "output_type": "stream",
     "text": [
      "Best parameters: {'rf__class_weight': None, 'rf__max_depth': None, 'rf__min_samples_split': 5, 'rf__n_estimators': 100}\n",
      "              precision    recall  f1-score   support\n",
      "\n",
      "           0       0.84      0.89      0.87        47\n",
      "           1       0.50      0.38      0.43        13\n",
      "\n",
      "    accuracy                           0.78        60\n",
      "   macro avg       0.67      0.64      0.65        60\n",
      "weighted avg       0.77      0.78      0.77        60\n",
      "\n"
     ]
    }
   ],
   "source": [
    "\n",
    "X_train, X_test, y_train, y_test = train_test_split(\n",
    "    X, y, test_size=0.15, random_state=42, stratify=y)\n",
    "\n",
    "# Pipeline with SMOTE and RandomForest\n",
    "pipeline = Pipeline([\n",
    "    ('smote', SMOTE(random_state=42)),\n",
    "    ('rf', RandomForestClassifier(random_state=42))\n",
    "])\n",
    "\n",
    "# Parameter grid for GridSearch\n",
    "param_grid = {\n",
    "    'rf__n_estimators': [50, 100, 200, 300, 400],\n",
    "    'rf__max_depth': [None, 10, 20],\n",
    "    'rf__min_samples_split': [2, 5, 7],\n",
    "    'rf__class_weight': [None]  # The model will not hold favour on any class\n",
    "}\n",
    "\n",
    "# Recall is used as scoring to improve failure detection\n",
    "grid = GridSearchCV(pipeline, param_grid, scoring='recall', cv=5)\n",
    "# 5 fold cross-val to train and test 5 times\n",
    "grid.fit(X_train, y_train)\n",
    "\n",
    "print(\"Best parameters:\", grid.best_params_)\n",
    "\n",
    "# Predict on test set\n",
    "y_pred = grid.predict(X_test)\n",
    "print(classification_report(y_test, y_pred))\n"
   ]
  },
  {
   "cell_type": "markdown",
   "id": "8a0845dc",
   "metadata": {},
   "source": [
    "Using SMOTE and GridSearchCV has shown some improvement in predicting the number of failures, while the model predicts more incorrectly, it does predict failures more often. This is understandable because with SMOTE the model can predict more failures due to the synthetic values but this leads to a drop in precision since the real data is has very few failures. Overall, applying SMOTE has given the effects that were expected but it hasn't really improved the effectiveness of the model. Further improvements to this could be to include the G1 scores and see if the model is better at predicting failure, as it will not make use of G2-3. \n",
    "\n",
    " It seems the model works best at 300 trees and doesn't have a max depth so the trees continue to grow showing a deep level of processing. The tree also has a high number of samples in each node, this makes it better at generalising as there will be less 'case-by-case' testing and it will process them faster.\n",
    "\n"
   ]
  },
  {
   "cell_type": "markdown",
   "id": "2a4d0afe",
   "metadata": {},
   "source": [
    "7. Feature importance"
   ]
  },
  {
   "cell_type": "code",
   "execution_count": 17,
   "id": "97615519",
   "metadata": {},
   "outputs": [
    {
     "data": {
      "image/png": "[encoded data removed]",
      "text/plain": [
       "<Figure size 1000x600 with 1 Axes>"
      ]
     },
     "metadata": {},
     "output_type": "display_data"
    }
   ],
   "source": [
    "\n",
    "# Get feature importances from the best model\n",
    "importances = grid.best_estimator_.named_steps['rf'].feature_importances_\n",
    "# Create a DataFrame for visualization\n",
    "feature_importances = pd.DataFrame({\n",
    "    'feature': X.columns,\n",
    "    'importance': importances\n",
    "})\n",
    "# Sort by importance\n",
    "feature_importances = feature_importances.sort_values(by='importance', ascending=False)\n",
    "# Plot feature importances\n",
    "plt.figure(figsize=(10, 6))\n",
    "plt.barh(feature_importances['feature'], feature_importances['importance'], color='skyblue')\n",
    "plt.xlabel('Importance')\n",
    "plt.title('Feature Importances from Random Forest Classifier')\n",
    "plt.show() "
   ]
  },
  {
   "cell_type": "markdown",
   "id": "5dffc35a",
   "metadata": {},
   "source": [
    "As expected, absences are the most important factor in determining failure, students who don't come to school are more likely to fail. Surprisingly, the mother's education also comes into effect but this may be due to the context of the data. It is less likely for women in Portugal to attend higher education and women that do will naturally have children that have advantages such as attitudes towards education, financial benefits or education opportunities in general."
   ]
  },
  {
   "cell_type": "markdown",
   "id": "dc5f7946",
   "metadata": {},
   "source": [
    "8. Some EDA can be made to give explore studying in more detail"
   ]
  },
  {
   "cell_type": "code",
   "execution_count": 21,
   "id": "de4f2f64",
   "metadata": {},
   "outputs": [
    {
     "data": {
      "image/png": "[encoded data removed]",
      "text/plain": [
       "<Figure size 640x480 with 1 Axes>"
      ]
     },
     "metadata": {},
     "output_type": "display_data"
    },
    {
     "data": {
      "image/png": "[encoded data removed]",
      "text/plain": [
       "<Figure size 640x480 with 1 Axes>"
      ]
     },
     "metadata": {},
     "output_type": "display_data"
    }
   ],
   "source": [
    "df_G3 = pd.read_csv(\"student-mat.csv\")\n",
    "df_G3 = pd.read_csv(\"student-mat.csv\", delimiter=';')\n",
    "\n",
    "# Bar chart of final grade by study time\n",
    "df_G3.groupby('studytime')['G3'].mean().plot(kind='bar')\n",
    "plt.ylabel('Average G3')\n",
    "plt.title('Average Final Grade by Study Time')\n",
    "plt.show()\n",
    "\n",
    "# Bar chart of the hours of study and how many students failed\n",
    "sns.countplot(x='studytime', hue='failed', data=df)\n",
    "plt.title('Failures by Study Time')\n",
    "plt.show()\n"
   ]
  },
  {
   "cell_type": "markdown",
   "id": "f68f4fc8",
   "metadata": {},
   "source": [
    "From both graphs, we can see that studying more will definitely increase the likelihood of avoiding failure and getting a high score. But combined with the feature importance it is not the the most important factor in determining a student's grade, other factors must also be met for a student to do well, namely attending school."
   ]
  }
 ],
 "metadata": {
  "kernelspec": {
   "display_name": "ml-env",
   "language": "python",
   "name": "python3"
  },
  "language_info": {
   "codemirror_mode": {
    "name": "ipython",
    "version": 3
   },
   "file_extension": ".py",
   "mimetype": "text/x-python",
   "name": "python",
   "nbconvert_exporter": "python",
   "pygments_lexer": "ipython3",
   "version": "3.10.16"
  }
 },
 "nbformat": 4,
 "nbformat_minor": 5
}
